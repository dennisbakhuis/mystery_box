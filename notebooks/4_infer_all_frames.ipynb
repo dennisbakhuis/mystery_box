{
 "cells": [
  {
   "cell_type": "markdown",
   "id": "a47e1a68-6582-4b94-9826-a0c3ea39308e",
   "metadata": {
    "tags": []
   },
   "source": [
    "# Mystery box - 4 - Extract box value from images\n",
    "### Dennis Bakhuis - 10th November 2022\n",
    "### https://linkedin.com/in/dennisbakhuis/"
   ]
  },
  {
   "cell_type": "code",
   "execution_count": null,
   "id": "2737cd45-0dd0-4b0c-adb5-f9663fc6b1b9",
   "metadata": {},
   "outputs": [],
   "source": [
    "import json\n",
    "import datetime\n",
    "from pathlib import Path\n",
    "import os\n",
    "\n",
    "import cv2\n",
    "\n",
    "import matplotlib.pyplot as plt\n",
    "import numpy as np\n",
    "import torch\n",
    "\n",
    "import transformers\n",
    "from transformers import (\n",
    "    DonutProcessor,\n",
    "    VisionEncoderDecoderModel, \n",
    "    VisionEncoderDecoderConfig,\n",
    ")\n",
    "\n",
    "from tqdm.auto import tqdm\n",
    "import pandas as pd\n",
    "\n",
    "from tqdm_batch import batch_process"
   ]
  },
  {
   "cell_type": "code",
   "execution_count": null,
   "id": "57fe009b-5d92-49ce-9e3a-25ba21c58fdd",
   "metadata": {},
   "outputs": [],
   "source": [
    "os.environ['TOKENIZERS_PARALLELISM'] = 'true'  # make some warning disappear"
   ]
  },
  {
   "cell_type": "code",
   "execution_count": null,
   "id": "f43fa8f3-0654-49a2-bbdf-52a935412f11",
   "metadata": {},
   "outputs": [],
   "source": []
  },
  {
   "cell_type": "code",
   "execution_count": null,
   "id": "b29e615c-c06e-46bb-81a9-f2e9602fbd27",
   "metadata": {},
   "outputs": [],
   "source": []
  },
  {
   "cell_type": "markdown",
   "id": "be48a295-588e-43a4-8e47-3801de16e090",
   "metadata": {},
   "source": [
    "# Prepare model for inference"
   ]
  },
  {
   "cell_type": "code",
   "execution_count": null,
   "id": "fc4e3af9-6b5b-4518-bb3d-94276c78dc53",
   "metadata": {},
   "outputs": [],
   "source": [
    "transformers.logging.disable_default_handler()\n",
    "processor = DonutProcessor.from_pretrained('bakhuisdennis/donut-base-mysterybox')\n",
    "model = VisionEncoderDecoderModel.from_pretrained('bakhuisdennis/donut-base-mysterybox')"
   ]
  },
  {
   "cell_type": "code",
   "execution_count": null,
   "id": "339c6fb9-0f02-46f7-afe5-48581ec0358d",
   "metadata": {},
   "outputs": [],
   "source": [
    "def run_prediction(image, model=model, processor=processor):\n",
    "    # image = prep_image(image)\n",
    "    pixel_values = processor(\n",
    "        image,\n",
    "        random_padding=False,\n",
    "        return_tensors=\"pt\",\n",
    "    ).pixel_values\n",
    "    \n",
    "    task_prompt = \"<s>\"\n",
    "    decoder_input_ids = processor.tokenizer(task_prompt, add_special_tokens=False, return_tensors=\"pt\").input_ids\n",
    "\n",
    "    # run inference\n",
    "    outputs = model.generate(\n",
    "        pixel_values,\n",
    "        decoder_input_ids=decoder_input_ids,\n",
    "        max_length=model.decoder.config.max_position_embeddings,\n",
    "        early_stopping=True,\n",
    "        pad_token_id=processor.tokenizer.pad_token_id,\n",
    "        eos_token_id=processor.tokenizer.eos_token_id,\n",
    "        use_cache=True,\n",
    "        num_beams=1,\n",
    "        bad_words_ids=[[processor.tokenizer.unk_token_id]],\n",
    "        return_dict_in_generate=True,\n",
    "    )\n",
    "\n",
    "    # process output\n",
    "    prediction = processor.batch_decode(outputs.sequences)[0]\n",
    "    prediction = processor.token2json(prediction)\n",
    "\n",
    "    return prediction"
   ]
  },
  {
   "cell_type": "code",
   "execution_count": null,
   "id": "cbfc6612-0dcd-4d55-9162-6f4c3852ca78",
   "metadata": {},
   "outputs": [],
   "source": []
  },
  {
   "cell_type": "code",
   "execution_count": null,
   "id": "db7a91f6-cabf-40de-bc5e-d8ccdc81fd7c",
   "metadata": {},
   "outputs": [],
   "source": []
  },
  {
   "cell_type": "code",
   "execution_count": null,
   "id": "c59c0c35-fc94-4dc3-b8a9-6723bb720cc2",
   "metadata": {},
   "outputs": [],
   "source": [
    "files = list(sorted(Path('../data/mystery_box/images_unlabeled').glob('*.png')))\n",
    "times = [int(x.stem) for x in files]"
   ]
  },
  {
   "cell_type": "code",
   "execution_count": null,
   "id": "dd0a2a51-61a4-4876-98ed-0b9a0566e78c",
   "metadata": {},
   "outputs": [],
   "source": [
    "from tqdm_batch import batch_process\n",
    "\n",
    "def batch_process_function(file_name, model, processor):\n",
    "    image = cv2.imread(str(file_name))\n",
    "    pred = run_prediction(image, model=model, processor=processor)\n",
    "    ix = int(Path(file_name).stem)\n",
    "    return (ix, pred)\n",
    "\n",
    "result = batch_process(\n",
    "    files,\n",
    "    batch_process_function,\n",
    "    model=model,\n",
    "    processor=processor,\n",
    "    n_workers=4,\n",
    "    sep_progress=True,\n",
    ")"
   ]
  },
  {
   "cell_type": "code",
   "execution_count": null,
   "id": "6b4f5157-d03e-4226-96c8-d915dc33baab",
   "metadata": {},
   "outputs": [],
   "source": []
  },
  {
   "cell_type": "code",
   "execution_count": null,
   "id": "dc3266c1-9952-4175-8a22-12ae73d614cc",
   "metadata": {},
   "outputs": [],
   "source": []
  },
  {
   "cell_type": "markdown",
   "id": "fdabb6a1-d126-46a6-959b-77f2f8ada645",
   "metadata": {},
   "source": [
    "## Combine data with previously labeled"
   ]
  },
  {
   "cell_type": "code",
   "execution_count": null,
   "id": "b24c2942-ef2e-41c6-b0ec-2e93f8f3c5a4",
   "metadata": {
    "tags": []
   },
   "outputs": [],
   "source": [
    "def try_get_int(data: dict):\n",
    "    \"\"\"Lazy way to check for missing predictions.\"\"\"\n",
    "    try:\n",
    "        return int(data['distance'])\n",
    "    except:\n",
    "        return None\n",
    "\n",
    "proc_results = [{\n",
    "        'run_time': ix, \n",
    "        'distance': try_get_int(data),\n",
    "    }\n",
    "    for ix, data in sorted(result, key=lambda x: x[0])\n",
    "]\n",
    "\n",
    "df = pd.DataFrame(proc_results)"
   ]
  },
  {
   "cell_type": "markdown",
   "id": "5d3241e8-70a0-4ea3-9851-65573dbba958",
   "metadata": {},
   "source": [
    "Combine infered data with our labeled set."
   ]
  },
  {
   "cell_type": "code",
   "execution_count": null,
   "id": "b3efa19f-2ad5-44a7-8d28-9b36611f1da3",
   "metadata": {},
   "outputs": [],
   "source": [
    "with open('../data/mystery_box/metadata.jsonl') as f:\n",
    "    train_data = [json.loads(x) for x in f.readlines()]\n",
    "\n",
    "train_data = [\n",
    "    {\n",
    "        'run_time': int(Path(x['file_name']).stem),\n",
    "        'distance': int(json.loads(x['text'])['distance']),\n",
    "    } for x in train_data\n",
    "]\n",
    "\n",
    "train_data = pd.DataFrame(train_data)"
   ]
  },
  {
   "cell_type": "code",
   "execution_count": null,
   "id": "325a77bf-ac82-4da1-9ffb-ca1740890d52",
   "metadata": {},
   "outputs": [],
   "source": [
    "df = (\n",
    "    pd\n",
    "    .concat([df, train_data], ignore_index=True, )\n",
    "    .sort_values('run_time')\n",
    "    .reset_index(drop=True)\n",
    ")"
   ]
  },
  {
   "cell_type": "markdown",
   "id": "08c6cf3e-e3ba-4aa2-9024-536c40311024",
   "metadata": {},
   "source": [
    "Make a proper time column."
   ]
  },
  {
   "cell_type": "code",
   "execution_count": null,
   "id": "b3e076c5-696b-4fc5-8a4e-08356123a83e",
   "metadata": {},
   "outputs": [],
   "source": [
    "image_file = '../data/raw/Session22/VID_20221019_171145.mp4'\n",
    "\n",
    "start_time = pd.to_datetime(\n",
    "    Path(image_file).stem[4:],\n",
    "    format=\"%Y%m%d_%H%M%S\",\n",
    ")"
   ]
  },
  {
   "cell_type": "code",
   "execution_count": null,
   "id": "0c745d00-6ac4-4626-ae42-709d68e7244a",
   "metadata": {},
   "outputs": [],
   "source": [
    "df = (\n",
    "    df\n",
    "    .assign(\n",
    "        time=start_time + pd.to_timedelta(df.run_time, unit='s'),\n",
    "    )\n",
    ")"
   ]
  },
  {
   "cell_type": "code",
   "execution_count": null,
   "id": "f461eef5-f70a-4f1d-b180-f2af2ac97786",
   "metadata": {},
   "outputs": [],
   "source": []
  },
  {
   "cell_type": "code",
   "execution_count": null,
   "id": "900c381b-c315-478a-8ac1-08228f831003",
   "metadata": {},
   "outputs": [],
   "source": []
  },
  {
   "cell_type": "markdown",
   "id": "23cc00c1-9f16-429a-a24b-c8c795cd3c3b",
   "metadata": {},
   "source": [
    "## Repair the noisy data"
   ]
  },
  {
   "cell_type": "code",
   "execution_count": null,
   "id": "a003173f-a308-46cc-88ab-5a9714bff7ac",
   "metadata": {},
   "outputs": [],
   "source": [
    "df.distance.plot()"
   ]
  },
  {
   "cell_type": "code",
   "execution_count": null,
   "id": "89ab3939-09da-487e-8006-31084fa8ffd5",
   "metadata": {},
   "outputs": [],
   "source": [
    "window = df.distance.rolling(window=3, min_periods=1).mean()\n",
    "\n",
    "df['filtered'] = df['distance'].where(\n",
    "    (df.distance - window).abs() < 5, \n",
    "    np.nan,\n",
    ").interpolate()\n",
    "\n",
    "plt.rcParams.update({'font.size': 22})\n",
    "fig, ax = plt.subplots(figsize=(12, 6))\n",
    "_ = df[['distance', 'filtered']].plot(ax=ax)"
   ]
  },
  {
   "cell_type": "code",
   "execution_count": null,
   "id": "1104bbfe-b6fe-4710-b897-04334238deed",
   "metadata": {},
   "outputs": [],
   "source": [
    "df.to_parquet('../data/image_values.parquet', index=False)"
   ]
  },
  {
   "cell_type": "code",
   "execution_count": null,
   "id": "52287a87-7cdd-4643-888c-3b2ec42dbdcd",
   "metadata": {},
   "outputs": [],
   "source": []
  },
  {
   "cell_type": "code",
   "execution_count": null,
   "id": "2ca132b7-f785-45a8-91e0-b5788ebbc85f",
   "metadata": {},
   "outputs": [],
   "source": []
  },
  {
   "cell_type": "markdown",
   "id": "d0293122-e1b0-49b0-97a0-1749a49e8c11",
   "metadata": {},
   "source": [
    "## Combine with GPS data"
   ]
  },
  {
   "cell_type": "code",
   "execution_count": null,
   "id": "2c3fd189-da3a-4f69-b118-13d88f1ad06c",
   "metadata": {},
   "outputs": [],
   "source": [
    "df = pd.read_parquet('../data/image_values.parquet')"
   ]
  },
  {
   "cell_type": "markdown",
   "id": "ccae9ba8-aaf4-4fab-990a-4078e13b9fd2",
   "metadata": {},
   "source": [
    "Make time the index."
   ]
  },
  {
   "cell_type": "code",
   "execution_count": null,
   "id": "21fecbf5-0f92-4a41-afad-d77cd1ebfe08",
   "metadata": {},
   "outputs": [],
   "source": [
    "df = (\n",
    "    df\n",
    "    .dropna(subset='filtered')\n",
    "    .drop_duplicates(subset='time')\n",
    "    .set_index('time')\n",
    ")"
   ]
  },
  {
   "cell_type": "code",
   "execution_count": null,
   "id": "fba900fd-b417-480a-94b6-a70de84ce9fa",
   "metadata": {},
   "outputs": [],
   "source": [
    "gps = pd.read_parquet('../data/mystery_box/gps_data.parquet')"
   ]
  },
  {
   "cell_type": "markdown",
   "id": "fae8d29b-b329-43f0-b4af-c02a62c9911b",
   "metadata": {},
   "source": [
    "Make sure that gps is withing the time limits of our image data."
   ]
  },
  {
   "cell_type": "code",
   "execution_count": null,
   "id": "28d73c68-d0d6-4805-a071-09b48f9a3c15",
   "metadata": {},
   "outputs": [],
   "source": [
    "gps = (\n",
    "    gps\n",
    "    .loc[gps.time > df.index.min()]\n",
    "    .loc[gps.time < df.index.max()]\n",
    ")"
   ]
  },
  {
   "cell_type": "markdown",
   "id": "c4e8eb30-a41f-4840-86b1-88cdd51ce31b",
   "metadata": {},
   "source": [
    "Add the A value to the GPS dataset."
   ]
  },
  {
   "cell_type": "code",
   "execution_count": null,
   "id": "27b34014-6c3f-4acd-8ec4-a9af39e92f34",
   "metadata": {},
   "outputs": [],
   "source": [
    "def get_distance(time):\n",
    "    return df.iloc[df.index.get_indexer([time], method='nearest')[0]].filtered\n",
    "\n",
    "gps['A'] = gps.time.apply(get_distance).astype(int)"
   ]
  },
  {
   "cell_type": "code",
   "execution_count": null,
   "id": "4d3efa00-d5bb-43fb-b279-4cbb617101f5",
   "metadata": {},
   "outputs": [],
   "source": [
    "gps.distance.plot()"
   ]
  },
  {
   "cell_type": "code",
   "execution_count": null,
   "id": "1de47546-e3d4-4fa1-9610-5d5265af84bb",
   "metadata": {},
   "outputs": [],
   "source": []
  },
  {
   "cell_type": "code",
   "execution_count": null,
   "id": "b28fa1e9-bdfc-4ca5-afac-43dcd40e4ed6",
   "metadata": {},
   "outputs": [],
   "source": [
    "gps.to_parquet('../data/mystery_box_dataset.parquet', index=False)"
   ]
  },
  {
   "cell_type": "code",
   "execution_count": null,
   "id": "94f5facc-b3dc-4857-bd33-b46b05bf6aaa",
   "metadata": {},
   "outputs": [],
   "source": []
  },
  {
   "cell_type": "code",
   "execution_count": null,
   "id": "2c7a69ce-9d9c-4a0b-9ce7-e75a8734e983",
   "metadata": {},
   "outputs": [],
   "source": []
  }
 ],
 "metadata": {
  "kernelspec": {
   "display_name": "Python 3 (ipykernel)",
   "language": "python",
   "name": "python3"
  },
  "language_info": {
   "codemirror_mode": {
    "name": "ipython",
    "version": 3
   },
   "file_extension": ".py",
   "mimetype": "text/x-python",
   "name": "python",
   "nbconvert_exporter": "python",
   "pygments_lexer": "ipython3",
   "version": "3.10.6"
  }
 },
 "nbformat": 4,
 "nbformat_minor": 5
}
